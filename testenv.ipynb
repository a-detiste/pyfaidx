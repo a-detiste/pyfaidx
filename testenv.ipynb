{
 "cells": [
  {
   "cell_type": "code",
   "execution_count": 5,
   "metadata": {},
   "outputs": [
    {
     "name": "stdout",
     "output_type": "stream",
     "text": [
      "ThssatstthsrgramscaabtytrngandcntngACbassNRSCYMTVAYKYKYKDYNGHVNGMRYARAVYTGADNDTDSAVVDCNCYWRNDVRNAVRWNKGCDWKYYACMDCVTTASYKGKRRNSBRBBVWTCVNHKYYRBNCMRGRCRSKSASGKWYBBGMHTCCVRNBVYHTYMSNAKGGVGCAVRWTTKCDDWHYTGKWKKCCBARYKGHGYTWSANGDYABTGAWANNRVSMACDVNYNKKRDAGNBNTTYRRNVABVARRBWCCWRTBMGMHHVTSKNWYWMHYCTHMNRBDCYWATYKYYDHBBDGYDVVSHCVAVVBMHAMBMHVAKKGVWRGCASBTGNASARMNGAHSTRDRGMVMCGWANSYHNBWSHMRKGCWVHDWCWWKBBSSYWWVSSVHMWHVNCVDRAYBATHHHTWDKKTBKHWDBGHYAHAHKDYMBNVNYNDBVAWGBCYABDSBCYDCDTABSHRHAHSYDYNNWKCNCGNNABWVCSYCASSRASADHVKMBVMHGSCHBMWMVTNVAAWBTBNMHVCHVBTGWSGMKVSGVWBNHWARTVSWNYAVACHYVGBSGTKCKDKYBRRVWSRWNMCGCKVSTSWMVBVAASAYRCGMSRKTKVCCSHBDRASSAANKTCDMWWKRBMBGACHHBRDNBGGTGKMABTBKCSCWAHASSWARBKHVAMMNKAKYAMMAAYWKYSMHYKGSCMTSSNWWBGDCGBKDYNVNHNGCVCRYSHWWMGWGSMBRYGGNGBKSCHHVKMSVBMYSGNVWYSTNAYGGNCYMDWYVWCSRVMAAMBVBKVCNAYKBAMMASTCVNDSNGCDMANWSCDRRWDNNTYCKMWVYMWBASDAMRKDHVBTMSSRTBTANKGHHKVVTMNKMAVCSYSGSYGTSBWAMKWTAGCYYWYYSSNTSCBHVAWMRVMDKBMADVKAYBBVBWMVNTYSWANRANRSDGKRAVSSVWNVVGRDRYSHNTKSCHSNDRBTSCNAKCHWAWACCGKGSTKMYBBMDMNBMSBRSCHYDYCDAKSMMNRTYYBBGHTW\n"
     ]
    }
   ],
   "source": [
    "import re\n",
    "\n",
    "# def gc(self):\n",
    "#     \"\"\" Return the GC content of seq as a float\n",
    "#     >>> x = Sequence(name='chr1', seq='ATCGTA')\n",
    "#     >>> y = round(x.gc, 2)\n",
    "#     >>> y == 0.33\n",
    "#     True\n",
    "#     \"\"\"\n",
    "#     g = self.seq.count('G')\n",
    "#     g += self.seq.count('g')\n",
    "#     c = self.seq.count('C')\n",
    "#     c += self.seq.count('c')\n",
    "#     return (g + c) / len(self.seq)\n",
    "seq = \"This is a test of this program's capability of filtering and counting IUPAC bases. NRSCYMTVAYKYKYKDYNGHVNGMRYARAVYTGADNDTDSAVVDCNCYWRNDVRNAVRWNKGCDWKYYACMDCVTTASYKGKRRNSBRBBVWTCVNHKYYRBNCMRGRCRSKSASGKWYBBGMHTCCVRNBVYHTYMSNAKGGVGCAVRWTTKCDDWHYTGKWKKCCBARYKGHGYTWSANGDYABTGAWANNRVSMACDVNYNKKRDAGNBNTTYRRNVABVARRBWCCWRTBMGMHHVTSKNWYWMHYCTHMNRBDCYWATYKYYDHBBDGYDVVSHCVAVVBMHAMBMHVAKKGVWRGCASBTGNASARMNGAHSTRDRGMVMCGWANSYHNBWSHMRKGCWVHDWCWWKBBSSYWWVSSVHMWHVNCVDRAYBATHHHTWDKKTBKHWDBGHYAHAHKDYMBNVNYNDBVAWGBCYABDSBCYDCDTABSHRHAHSYDYNNWKCNCGNNABWVCSYCASSRASADHVKMBVMHGSCHBMWMVTNVAAWBTBNMHVCHVBTGWSGMKVSGVWBNHWARTVSWNYAVACHYVGBSGTKCKDKYBRRVWSRWNMCGCKVSTSWMVBVAASAYRCGMSRKTKVCCSHBDRASSAANKTCDMWWKRBMBGACHHBRDNBGGTGKMABTBKCSCWAHASSWARBKHVAMMNKAKYAMMAAYWKYSMHYKGSCMTSSNWWBGDCGBKDYNVNHNGCVCRYSHWWMGWGSMBRYGGNGBKSCHHVKMSVBMYSGNVWYSTNAYGGNCYMDWYVWCSRVMAAMBVBKVCNAYKBAMMASTCVNDSNGCDMANWSCDRRWDNNTYCKMWVYMWBASDAMRKDHVBTMSSRTBTANKGHHKVVTMNKMAVCSYSGSYGTSBWAMKWTAGCYYWYYSSNTSCBHVAWMRVMDKBMADVKAYBBVBWMVNTYSWANRANRSDGKRAVSSVWNVVGRDRYSHNTKSCHSNDRBTSCNAKCHWAWACCGKGSTKMYBBMDMNBMSBRSCHYDYCDAKSMMNRTYYBBGHTW\"\n",
    "\n",
    "def gcIUPAC(seq):\n",
    "    \"\"\" Return the GC content of seq as a float\n",
    "    >>> x = Sequence(name='chr1', seq='ATCGTA')\n",
    "    >>> y = round(x.gc, 2)\n",
    "    >>> y == 0.33\n",
    "    True\n",
    "    \"\"\"\n",
    "    newSeq = re.sub(r'[^ACGTMRWSYKVHDBNacgtmrwsykvhdbn]', '', seq)\n",
    "    #g = self.seq.count('G')\n",
    "    #g += self.seq.count('g')\n",
    "    #c = self.seq.count('C')\n",
    "    #c += self.seq.count('c')\n",
    "    #return (g + c) / len(self.seq)\n",
    "    print(newSeq)\n",
    "\n",
    "gcIUPAC(seq)\n"
   ]
  },
  {
   "cell_type": "code",
   "execution_count": 3,
   "metadata": {},
   "outputs": [
    {
     "name": "stdout",
     "output_type": "stream",
     "text": [
      "acgtmrwsykvhdbn\n"
     ]
    }
   ],
   "source": [
    "'''\n",
    "A\tA\tT\n",
    "C\tC\tG\n",
    "G\tG\tC\n",
    "T\tT\tA\n",
    "M\tA or C\tK\n",
    "R\tA or G\tY\n",
    "W\tA or T\tW\n",
    "S\tC or G\tS\n",
    "Y\tC or T\tR\n",
    "K\tG or T\tM\n",
    "V\tA or C or G\tB\n",
    "H\tA or C or T\tD\n",
    "D\tA or G or T\tH\n",
    "B\tC or G or T\tV\n",
    "N\tG or A or T or C\tN\n",
    "'''\n",
    "\n",
    "print(\"ACGTMRWSYKVHDBN\".lower())"
   ]
  }
 ],
 "metadata": {
  "kernelspec": {
   "display_name": "Python 3",
   "language": "python",
   "name": "python3"
  },
  "language_info": {
   "codemirror_mode": {
    "name": "ipython",
    "version": 3
   },
   "file_extension": ".py",
   "mimetype": "text/x-python",
   "name": "python",
   "nbconvert_exporter": "python",
   "pygments_lexer": "ipython3",
   "version": "3.10.6"
  },
  "orig_nbformat": 4,
  "vscode": {
   "interpreter": {
    "hash": "916dbcbb3f70747c44a77c7bcd40155683ae19c65e1c03b4aa3499c5328201f1"
   }
  }
 },
 "nbformat": 4,
 "nbformat_minor": 2
}
