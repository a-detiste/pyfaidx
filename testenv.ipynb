{
 "cells": [
  {
   "cell_type": "code",
   "execution_count": 20,
   "metadata": {},
   "outputs": [
    {
     "name": "stdout",
     "output_type": "stream",
     "text": [
      "0.3333333333333333\n",
      "0.3611111111111111\n"
     ]
    }
   ],
   "source": [
    "import re\n",
    "\n",
    "# def gc(self):\n",
    "#     \"\"\" Return the GC content of seq as a float\n",
    "#     >>> x = Sequence(name='chr1', seq='ATCGTA')\n",
    "#     >>> y = round(x.gc, 2)\n",
    "#     >>> y == 0.33\n",
    "#     True\n",
    "#     \"\"\"\n",
    "#     g = seq.count('G')\n",
    "#     g += seq.count('g')\n",
    "#     c = seq.count('C')\n",
    "#     c += seq.count('c')\n",
    "#     return (g + c) / len(seq)\n",
    "seq = \"This is a test of this program's capability of filtering and counting IUPAC bases. NRSCYMTVAYKYKYKDYNGHVNGMRYARAVYTGADNDTDSAVVDCNCYWRNDVRNAVRWNKGCDWKYYACMDCVTTASYKGKRRNSBRBBVWTCVNHKYYRBNCMRGRCRSKSASGKWYBBGMHTCCVRNBVYHTYMSNAKGGVGCAVRWTTKCDDWHYTGKWKKCCBARYKGHGYTWSANGDYABTGAWANNRVSMACDVNYNKKRDAGNBNTTYRRNVABVARRBWCCWRTBMGMHHVTSKNWYWMHYCTHMNRBDCYWATYKYYDHBBDGYDVVSHCVAVVBMHAMBMHVAKKGVWRGCASBTGNASARMNGAHSTRDRGMVMCGWANSYHNBWSHMRKGCWVHDWCWWKBBSSYWWVSSVHMWHVNCVDRAYBATHHHTWDKKTBKHWDBGHYAHAHKDYMBNVNYNDBVAWGBCYABDSBCYDCDTABSHRHAHSYDYNNWKCNCGNNABWVCSYCASSRASADHVKMBVMHGSCHBMWMVTNVAAWBTBNMHVCHVBTGWSGMKVSGVWBNHWARTVSWNYAVACHYVGBSGTKCKDKYBRRVWSRWNMCGCKVSTSWMVBVAASAYRCGMSRKTKVCCSHBDRASSAANKTCDMWWKRBMBGACHHBRDNBGGTGKMABTBKCSCWAHASSWARBKHVAMMNKAKYAMMAAYWKYSMHYKGSCMTSSNWWBGDCGBKDYNVNHNGCVCRYSHWWMGWGSMBRYGGNGBKSCHHVKMSVBMYSGNVWYSTNAYGGNCYMDWYVWCSRVMAAMBVBKVCNAYKBAMMASTCVNDSNGCDMANWSCDRRWDNNTYCKMWVYMWBASDAMRKDHVBTMSSRTBTANKGHHKVVTMNKMAVCSYSGSYGTSBWAMKWTAGCYYWYYSSNTSCBHVAWMRVMDKBMADVKAYBBVBWMVNTYSWANRANRSDGKRAVSSVWNVVGRDRYSHNTKSCHSNDRBTSCNAKCHWAWACCGKGSTKMYBBMDMNBMSBRSCHYDYCDAKSMMNRTYYBBGHTW\"\n",
    "\n",
    "def gc_strict(seq):\n",
    "    \"\"\" Return the GC content of seq as a float, ignoring non ACGT characters\n",
    "    >>> x = Sequence(name='chr1', seq='NMRATCGTA')\n",
    "    >>> y = round(x.gc, 2)\n",
    "    >>> y == 0.33\n",
    "    True\n",
    "    \"\"\"\n",
    "    trimSeq = re.sub(r'[^ACGTacgt]', '', seq)\n",
    "    g = seq.count('G')\n",
    "    g += seq.count('g')\n",
    "    c = seq.count('C')\n",
    "    c += seq.count('c')\n",
    "    return (g + c) / len(trimSeq)\n",
    "\n",
    "def gc_iupac(seq):\n",
    "    from collections import Counter\n",
    "    \"\"\" Return the GC content of seq as a float, accounting for IUPAC ambiguity \n",
    "    >>> x = Sequence(name='chr1', seq='NMRATCGTA')\n",
    "    >>> y = round(x.gc, 2)\n",
    "    >>> y == 0.36\n",
    "    True\n",
    "    \"\"\"\n",
    "    trimSeq = re.sub(r'[^ACGTMRWSYKVHDBNacgtmrwsykvhdbn]', '', seq)\n",
    "    # count all, including fractions of GC content\n",
    "    seqCount = Counter(trimSeq)\n",
    "    gc = seqCount['S'] + seqCount['C'] + seqCount['G']\n",
    "    gc += 0.67 * (seqCount['B'] + seqCount['V'])\n",
    "    gc += 0.5 * (seqCount['M'] + seqCount['R'] + seqCount['Y'] + seqCount['K'])\n",
    "    gc += 0.33 * (seqCount['H'] + seqCount['D'])\n",
    "    gc += 0.25 * (seqCount['N'])\n",
    "    # return gc content\n",
    "    return gc / len(trimSeq)\n",
    "\n",
    "\n",
    "print(gc_strict(seq))\n",
    "\n",
    "print(gc_iupac(seq))\n"
   ]
  },
  {
   "cell_type": "code",
   "execution_count": 3,
   "metadata": {},
   "outputs": [
    {
     "name": "stdout",
     "output_type": "stream",
     "text": [
      "acgtmrwsykvhdbn\n"
     ]
    }
   ],
   "source": [
    "'''\n",
    "S\t1\n",
    "C\t1\n",
    "G\t1\n",
    "\n",
    "B\t0.67\n",
    "V\t0.67\n",
    "\n",
    "M\t0.5\n",
    "R\t0.5\n",
    "Y\t0.5\n",
    "K\t0.5\n",
    "\n",
    "H\t0.33\n",
    "D\t0.33\n",
    "\n",
    "N\t0.25\n",
    "'''\n",
    "\n",
    "print(\"ACGTMRWSYKVHDBN\".lower())"
   ]
  }
 ],
 "metadata": {
  "kernelspec": {
   "display_name": "Python 3",
   "language": "python",
   "name": "python3"
  },
  "language_info": {
   "codemirror_mode": {
    "name": "ipython",
    "version": 3
   },
   "file_extension": ".py",
   "mimetype": "text/x-python",
   "name": "python",
   "nbconvert_exporter": "python",
   "pygments_lexer": "ipython3",
   "version": "3.10.6"
  },
  "orig_nbformat": 4,
  "vscode": {
   "interpreter": {
    "hash": "916dbcbb3f70747c44a77c7bcd40155683ae19c65e1c03b4aa3499c5328201f1"
   }
  }
 },
 "nbformat": 4,
 "nbformat_minor": 2
}
