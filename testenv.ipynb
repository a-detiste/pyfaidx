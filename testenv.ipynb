{
 "cells": [
  {
   "cell_type": "code",
   "execution_count": 23,
   "metadata": {},
   "outputs": [],
   "source": [
    "import re\n",
    "\n",
    "# def gc(self):\n",
    "#     \"\"\" Return the GC content of seq as a float\n",
    "#     >>> x = Sequence(name='chr1', seq='ATCGTA')\n",
    "#     >>> y = round(x.gc, 2)\n",
    "#     >>> y == 0.33\n",
    "#     True\n",
    "#     \"\"\"\n",
    "#     g = seq.count('G')\n",
    "#     g += seq.count('g')\n",
    "#     c = seq.count('C')\n",
    "#     c += seq.count('c')\n",
    "#     return (g + c) / len(seq)\n",
    "\n",
    "seq = \"This is a test of this program's capability of filtering and counting IUPAC bases. NRSCYMTVAYKYKYKDYNGHVNGMRYARAVYTGADNDTDSAVVDCNCYWRNDVRNAVRWNKGCDWKYYACMDCVTTASYKGKRRNSBRBBVWTCVNHKYYRBNCMRGRCRSKSASGKWYBBGMHTCCVRNBVYHTYMSNAKGGVGCAVRWTTKCDDWHYTGKWKKCCBARYKGHGYTWSANGDYABTGAWANNRVSMACDVNYNKKRDAGNBNTTYRRNVABVARRBWCCWRTBMGMHHVTSKNWYWMHYCTHMNRBDCYWATYKYYDHBBDGYDVVSHCVAVVBMHAMBMHVAKKGVWRGCASBTGNASARMNGAHSTRDRGMVMCGWANSYHNBWSHMRKGCWVHDWCWWKBBSSYWWVSSVHMWHVNCVDRAYBATHHHTWDKKTBKHWDBGHYAHAHKDYMBNVNYNDBVAWGBCYABDSBCYDCDTABSHRHAHSYDYNNWKCNCGNNABWVCSYCASSRASADHVKMBVMHGSCHBMWMVTNVAAWBTBNMHVCHVBTGWSGMKVSGVWBNHWARTVSWNYAVACHYVGBSGTKCKDKYBRRVWSRWNMCGCKVSTSWMVBVAASAYRCGMSRKTKVCCSHBDRASSAANKTCDMWWKRBMBGACHHBRDNBGGTGKMABTBKCSCWAHASSWARBKHVAMMNKAKYAMMAAYWKYSMHYKGSCMTSSNWWBGDCGBKDYNVNHNGCVCRYSHWWMGWGSMBRYGGNGBKSCHHVKMSVBMYSGNVWYSTNAYGGNCYMDWYVWCSRVMAAMBVBKVCNAYKBAMMASTCVNDSNGCDMANWSCDRRWDNNTYCKMWVYMWBASDAMRKDHVBTMSSRTBTANKGHHKVVTMNKMAVCSYSGSYGTSBWAMKWTAGCYYWYYSSNTSCBHVAWMRVMDKBMADVKAYBBVBWMVNTYSWANRANRSDGKRAVSSVWNVVGRDRYSHNTKSCHSNDRBTSCNAKCHWAWACCGKGSTKMYBBMDMNBMSBRSCHYDYCDAKSMMNRTYYBBGHTW\"\n",
    "\n",
    "def gc_strict(seq):\n",
    "    \"\"\" Return the GC content of seq as a float, ignoring non ACGT characters\n",
    "    >>> x = Sequence(name='chr1', seq='NMRATCGTA')\n",
    "    >>> y = round(x.gc, 2)\n",
    "    >>> y == 0.33\n",
    "    True\n",
    "    \"\"\"\n",
    "    trimSeq = re.sub(r'[^ACGTacgt]', '', seq)\n",
    "    g = seq.count('G')\n",
    "    g += seq.count('g')\n",
    "    c = seq.count('C')\n",
    "    c += seq.count('c')\n",
    "    return (g + c) / len(trimSeq)\n",
    "\n",
    "def gc_iupac(seq):\n",
    "    from collections import Counter\n",
    "    \"\"\" Return the GC content of seq as a float, accounting for IUPAC ambiguity \n",
    "    >>> x = Sequence(name='chr1', seq='NMRATCGTA')\n",
    "    >>> y = round(x.gc, 2)\n",
    "    >>> y == 0.36\n",
    "    True\n",
    "    \"\"\"\n",
    "    trimSeq = re.sub(r'[^ACGTMRWSYKVHDBNacgtmrwsykvhdbn]', '', seq)\n",
    "    # count all, including fractions of GC content\n",
    "    seqCount = Counter(trimSeq)\n",
    "    gc = seqCount['S'] + seqCount['C'] + seqCount['G']\n",
    "    gc += 0.67 * (seqCount['B'] + seqCount['V'])\n",
    "    gc += 0.5 * (seqCount['M'] + seqCount['R'] + seqCount['Y'] + seqCount['K'])\n",
    "    gc += 0.33 * (seqCount['H'] + seqCount['D'])\n",
    "    gc += 0.25 * (seqCount['N'])\n",
    "    # return gc content\n",
    "    return gc / len(trimSeq)\n",
    "\n",
    "def gc_iupac2(seq):\n",
    "    from collections import Counter\n",
    "    \"\"\" Return the GC content of seq as a float, accounting for IUPAC ambiguity \n",
    "    >>> x = Sequence(name='chr1', seq='NMRATCGTA')\n",
    "    >>> y = round(x.gc, 2)\n",
    "    >>> y == 0.36\n",
    "    True\n",
    "    \"\"\"\n",
    "    trimSeq = re.sub(r'[^ACGTMRWSYKVHDBNacgtmrwsykvhdbn]', '', seq)\n",
    "    # count all, including fractions of GC content\n",
    "    seqCount = Counter(trimSeq)\n",
    "    gc = seq.count('S') + seq.count('C') + seq.count('G')\n",
    "    gc += 0.67 * (seq.count('B') + seq.count('V'))\n",
    "    gc += 0.5 * (seq.count('M') + seq.count('R') + seq.count('Y') + seq.count('K'))\n",
    "    gc += 0.33 * (seq.count('H') + seq.count('D'))\n",
    "    gc += 0.25 * (seq.count('N'))\n",
    "    # return gc content\n",
    "    return gc / len(trimSeq)\n",
    "\n",
    "\n",
    "\n",
    "#print(gc_strict(seq))\n",
    "\n",
    "#print(gc_iupac(seq))\n",
    "#print(gc_iupac2(seq))\n",
    "\n",
    "\n",
    "\n"
   ]
  },
  {
   "cell_type": "code",
   "execution_count": 28,
   "metadata": {},
   "outputs": [
    {
     "name": "stdout",
     "output_type": "stream",
     "text": [
      "48.3 µs ± 996 ns per loop (mean ± std. dev. of 7 runs, 10000 loops each)\n"
     ]
    }
   ],
   "source": [
    "%timeit gc_iupac(seq)"
   ]
  },
  {
   "cell_type": "code",
   "execution_count": 27,
   "metadata": {},
   "outputs": [
    {
     "name": "stdout",
     "output_type": "stream",
     "text": [
      "60.2 µs ± 675 ns per loop (mean ± std. dev. of 7 runs, 10000 loops each)\n"
     ]
    }
   ],
   "source": [
    "%timeit gc_iupac2(seq)"
   ]
  }
 ],
 "metadata": {
  "kernelspec": {
   "display_name": "Python 3",
   "language": "python",
   "name": "python3"
  },
  "language_info": {
   "codemirror_mode": {
    "name": "ipython",
    "version": 3
   },
   "file_extension": ".py",
   "mimetype": "text/x-python",
   "name": "python",
   "nbconvert_exporter": "python",
   "pygments_lexer": "ipython3",
   "version": "3.10.6"
  },
  "orig_nbformat": 4,
  "vscode": {
   "interpreter": {
    "hash": "916dbcbb3f70747c44a77c7bcd40155683ae19c65e1c03b4aa3499c5328201f1"
   }
  }
 },
 "nbformat": 4,
 "nbformat_minor": 2
}
